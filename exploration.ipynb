{
 "cells": [
  {
   "cell_type": "code",
   "execution_count": 5,
   "metadata": {},
   "outputs": [
    {
     "name": "stdout",
     "output_type": "stream",
     "text": [
      "/usr/local/lib/python3.10/dist-packages/gdown/__main__.py:132: FutureWarning: Option `--id` was deprecated in version 4.3.1 and will be removed in 5.0. You don't need to pass it anymore to use a file ID.\n",
      "  warnings.warn(\n",
      "Downloading...\n",
      "From: https://drive.google.com/uc?id=152sWECukjvLerrVG2NUO8gtMFg83RKCF\n",
      "To: /home/udaygirish/Projects/learn_interviews/time_series_experiments/data/WISDM_ar_latest.tar.gz\n",
      "100%|██████████████████████████████████████| 11.4M/11.4M [00:00<00:00, 23.2MB/s]\n"
     ]
    }
   ],
   "source": [
    "!gdown --id 152sWECukjvLerrVG2NUO8gtMFg83RKCF  --output data/WISDM_ar_latest.tar.gz"
   ]
  },
  {
   "cell_type": "code",
   "execution_count": 6,
   "metadata": {},
   "outputs": [
    {
     "name": "stdout",
     "output_type": "stream",
     "text": [
      "WISDM_ar_v1.1/\n",
      "WISDM_ar_v1.1/readme.txt\n",
      "WISDM_ar_v1.1/WISDM_ar_v1.1_raw.txt\n",
      "WISDM_ar_v1.1/WISDM_ar_v1.1_raw_about.txt\n",
      "WISDM_ar_v1.1/WISDM_ar_v1.1_transformed.arff\n",
      "WISDM_ar_v1.1/WISDM_ar_v1.1_trans_about.txt\n"
     ]
    }
   ],
   "source": [
    "! tar -xvf data/WISDM_ar_latest.tar.gz -C data"
   ]
  },
  {
   "cell_type": "code",
   "execution_count": 9,
   "metadata": {},
   "outputs": [],
   "source": [
    "# Import libraries \n",
    "import numpy as np \n",
    "import pandas as pd\n",
    "import matplotlib.pyplot as plt\n",
    "import os \n",
    "import sys \n",
    "import seaborn as sns"
   ]
  },
  {
   "cell_type": "code",
   "execution_count": 8,
   "metadata": {},
   "outputs": [],
   "source": [
    "SEED = 45"
   ]
  },
  {
   "cell_type": "code",
   "execution_count": 10,
   "metadata": {},
   "outputs": [],
   "source": [
    "# Import DL libraries\n",
    "import tensorflow as tf\n",
    "from tensorflow import keras\n"
   ]
  },
  {
   "cell_type": "code",
   "execution_count": 11,
   "metadata": {},
   "outputs": [],
   "source": [
    "# Import Traditional ML Libraries \n",
    "from sklearn.model_selection import train_test_split\n",
    "from sklearn.preprocessing import StandardScaler\n",
    "from sklearn.preprocessing import LabelEncoder, OneHotEncoder\n",
    "from sklearn import pipeline\n",
    "from sklearn.metrics import classification_report, confusion_matrix, accuracy_score, f1_score, precision_score, recall_score"
   ]
  },
  {
   "cell_type": "code",
   "execution_count": null,
   "metadata": {},
   "outputs": [],
   "source": [
    "# ToDO:\n",
    "# 1. Load the data\n",
    "# 2. Preprocess the data - Build a Pipeline (Common Data Pipeline)\n",
    "# 3. Processed Data - Pipeline - Traditional ML Model\n",
    "# 4. Processed Data - Pipeline - Deep Learning Model\n",
    "# 5. Post Processing of Results\n",
    "# 6. Model Evaluation \n",
    "# 7. API to send a pack and get the results analysed\n",
    "# 8. Deploy on Cloud - Package the model and API -Docker\n",
    "# 9. Optimize the model for Edge - (Tf Lite, ONNX, .h )\n",
    "# 10. Sample Input and Output Data representations"
   ]
  }
 ],
 "metadata": {
  "kernelspec": {
   "display_name": "Python 3",
   "language": "python",
   "name": "python3"
  },
  "language_info": {
   "codemirror_mode": {
    "name": "ipython",
    "version": 3
   },
   "file_extension": ".py",
   "mimetype": "text/x-python",
   "name": "python",
   "nbconvert_exporter": "python",
   "pygments_lexer": "ipython3",
   "version": "3.10.12"
  }
 },
 "nbformat": 4,
 "nbformat_minor": 2
}
